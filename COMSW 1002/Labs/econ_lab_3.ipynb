{
 "cells": [
  {
   "cell_type": "markdown",
   "metadata": {},
   "source": [
    "### CiC Economics Lab 3\n"
   ]
  },
  {
   "cell_type": "markdown",
   "metadata": {},
   "source": [
    "**Problem 1** Consider a path of T time steps through binomial lattice model from class and the handouts. Recall that \n",
    "\n",
    "$$S_T = S_0Y_1\\cdot Y_2 \\cdot Y_3...\\cdot Y_{T}$$\n",
    "\n",
    "Where $$Y_i   = \\left\\{ \\begin{array}{ll} u & \\mbox{with probability } p \\\\ d & \\mbox{with probability }(1-p) \\end{array} \\right. $$\n",
    "\n",
    "Suppose *u=1.07*, *d=1.01*, *p=.55*, and *T=10*\n",
    "\n",
    "Estimate the expected value of $S_{10}$ by running 10,000 simulations of the 10 step journey through the lattice and averaging each of the final values of $S_{10}$.\n",
    "  \n",
    "\n"
   ]
  },
  {
   "cell_type": "code",
   "execution_count": null,
   "metadata": {
    "collapsed": true
   },
   "outputs": [],
   "source": [
    "## your code here"
   ]
  },
  {
   "cell_type": "markdown",
   "metadata": {},
   "source": [
    "**Note:  **This is similar but not exactly what you need to do for problem two of your homework. In that case you will need to simulate paths through the lattice in a similar way, but you will be adding one more step to you calulation since at the end of each simulated 10-step random journey you will be calculating:\n",
    "\n",
    "$$ C_T = (S_T-K)^+$$\n",
    "Where K is the strike price."
   ]
  }
 ],
 "metadata": {
  "kernelspec": {
   "display_name": "Python 3",
   "language": "python",
   "name": "python3"
  },
  "language_info": {
   "codemirror_mode": {
    "name": "ipython",
    "version": 3
   },
   "file_extension": ".py",
   "mimetype": "text/x-python",
   "name": "python",
   "nbconvert_exporter": "python",
   "pygments_lexer": "ipython3",
   "version": "3.6.3"
  }
 },
 "nbformat": 4,
 "nbformat_minor": 4
}
