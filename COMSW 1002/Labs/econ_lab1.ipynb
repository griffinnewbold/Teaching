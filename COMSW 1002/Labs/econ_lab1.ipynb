{
 "cells": [
  {
   "cell_type": "markdown",
   "metadata": {
    "id": "EnMPqakCla2I"
   },
   "source": [
    "### CiC Economics Lab 1\n"
   ]
  },
  {
   "cell_type": "markdown",
   "metadata": {
    "id": "OpCQ2CTJla2L"
   },
   "source": [
    "Today we're going to first create DataFrame from a file of parking tickets and then answer some questions."
   ]
  },
  {
   "cell_type": "markdown",
   "metadata": {
    "id": "_UfMAl5Zla2M"
   },
   "source": [
    "### 1 Create a DataFrame with just the information you need.\n",
    "\n",
    "Use the tiny_parking.csv file [here](http://www.cs.columbia.edu/~cannon/parking/) and create a DataFrame with only the following columns\n",
    "\n",
    "* plate\n",
    "* date\n",
    "* amount_due\n",
    "* penalty_amount\n",
    "\n"
   ]
  },
  {
   "cell_type": "code",
   "execution_count": null,
   "metadata": {
    "collapsed": true,
    "id": "7u6mptGzla2N"
   },
   "outputs": [],
   "source": [
    "# your code here. "
   ]
  },
  {
   "cell_type": "markdown",
   "metadata": {
    "id": "afQdPqw3la2O"
   },
   "source": [
    "### 2 Determine how much is owed by the vehicle with plate `002YKD`\n"
   ]
  },
  {
   "cell_type": "code",
   "execution_count": null,
   "metadata": {
    "collapsed": true,
    "id": "LqC9cWcnla2O"
   },
   "outputs": [],
   "source": [
    "# your code here"
   ]
  },
  {
   "cell_type": "markdown",
   "metadata": {
    "id": "PlaBa9xAla2P"
   },
   "source": [
    "### 3 Determine in which month of the year the most tickets are given"
   ]
  },
  {
   "cell_type": "code",
   "execution_count": null,
   "metadata": {
    "collapsed": true,
    "id": "s4Bgw682la2Q"
   },
   "outputs": [],
   "source": [
    "# your code here"
   ]
  }
 ],
 "metadata": {
  "colab": {
   "provenance": []
  },
  "kernelspec": {
   "display_name": "Python 3",
   "language": "python",
   "name": "python3"
  },
  "language_info": {
   "codemirror_mode": {
    "name": "ipython",
    "version": 3
   },
   "file_extension": ".py",
   "mimetype": "text/x-python",
   "name": "python",
   "nbconvert_exporter": "python",
   "pygments_lexer": "ipython3",
   "version": "3.9.11"
  }
 },
 "nbformat": 4,
 "nbformat_minor": 1
}
